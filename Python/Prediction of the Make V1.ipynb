{
 "cells": [
  {
   "cell_type": "code",
   "execution_count": 1,
   "metadata": {},
   "outputs": [
    {
     "data": {
      "text/plain": [
       "(ID                                                     0\n",
       " Model Year                                             0\n",
       " Make                                                   0\n",
       " Estimated Annual Petrolum Consumption (Barrels)        0\n",
       " Fuel Type 1                                            0\n",
       " City MPG (Fuel Type 1)                                 0\n",
       " Highway MPG (Fuel Type 1)                              0\n",
       " Combined MPG (Fuel Type 1)                             0\n",
       " Fuel Type 2                                        44059\n",
       " City MPG (Fuel Type 2)                                 0\n",
       " Highway MPG (Fuel Type 2)                              0\n",
       " Combined MPG (Fuel Type 2)                             0\n",
       " Engine Cylinders                                     487\n",
       " Engine Displacement                                  485\n",
       " Drive                                               1186\n",
       " Engine Description                                 17031\n",
       " Transmission                                          11\n",
       " Vehicle Class                                          0\n",
       " Time to Charge EV (hours at 120v)                      0\n",
       " Time to Charge EV (hours at 240v)                      0\n",
       " Range (for EV)                                         0\n",
       " City Range (for EV - Fuel Type 1)                      0\n",
       " City Range (for EV - Fuel Type 2)                      0\n",
       " Hwy Range (for EV - Fuel Type 1)                       0\n",
       " Hwy Range (for EV - Fuel Type 2)                       0\n",
       " dtype: int64,\n",
       " ID                                                   int64\n",
       " Model Year                                           int64\n",
       " Make                                                object\n",
       " Estimated Annual Petrolum Consumption (Barrels)    float64\n",
       " Fuel Type 1                                         object\n",
       " City MPG (Fuel Type 1)                               int64\n",
       " Highway MPG (Fuel Type 1)                            int64\n",
       " Combined MPG (Fuel Type 1)                           int64\n",
       " Fuel Type 2                                         object\n",
       " City MPG (Fuel Type 2)                               int64\n",
       " Highway MPG (Fuel Type 2)                            int64\n",
       " Combined MPG (Fuel Type 2)                           int64\n",
       " Engine Cylinders                                   float64\n",
       " Engine Displacement                                float64\n",
       " Drive                                               object\n",
       " Engine Description                                  object\n",
       " Transmission                                        object\n",
       " Vehicle Class                                       object\n",
       " Time to Charge EV (hours at 120v)                    int64\n",
       " Time to Charge EV (hours at 240v)                  float64\n",
       " Range (for EV)                                       int64\n",
       " City Range (for EV - Fuel Type 1)                  float64\n",
       " City Range (for EV - Fuel Type 2)                  float64\n",
       " Hwy Range (for EV - Fuel Type 1)                   float64\n",
       " Hwy Range (for EV - Fuel Type 2)                   float64\n",
       " dtype: object)"
      ]
     },
     "execution_count": 1,
     "metadata": {},
     "output_type": "execute_result"
    }
   ],
   "source": [
    "import pandas as pd\n",
    "\n",
    "# Load the dataset\n",
    "file_path = 'Vehicle MPG - 1984 to 2023.csv'\n",
    "data = pd.read_csv(file_path)\n",
    "\n",
    "# Drop the 'Model' column\n",
    "data_dropped = data.drop('Model', axis=1)\n",
    "\n",
    "# Check for missing values\n",
    "missing_data_summary = data_dropped.isnull().sum()\n",
    "\n",
    "# Determine the types of each column to identify categorical vs numeric columns\n",
    "column_types = data_dropped.dtypes\n",
    "\n",
    "missing_data_summary, column_types\n"
   ]
  },
  {
   "cell_type": "code",
   "execution_count": 2,
   "metadata": {},
   "outputs": [
    {
     "name": "stderr",
     "output_type": "stream",
     "text": [
      "/var/folders/bv/ghjrxv6j7pl2ttzvdds70ldh0000gn/T/ipykernel_83761/920985396.py:8: FutureWarning: A value is trying to be set on a copy of a DataFrame or Series through chained assignment using an inplace method.\n",
      "The behavior will change in pandas 3.0. This inplace method will never work because the intermediate object on which we are setting values always behaves as a copy.\n",
      "\n",
      "For example, when doing 'df[col].method(value, inplace=True)', try using 'df.method({col: value}, inplace=True)' or df[col] = df[col].method(value) instead, to perform the operation inplace on the original object.\n",
      "\n",
      "\n",
      "  data_cleaned[column].fillna(median_value, inplace=True)\n",
      "/var/folders/bv/ghjrxv6j7pl2ttzvdds70ldh0000gn/T/ipykernel_83761/920985396.py:8: FutureWarning: A value is trying to be set on a copy of a DataFrame or Series through chained assignment using an inplace method.\n",
      "The behavior will change in pandas 3.0. This inplace method will never work because the intermediate object on which we are setting values always behaves as a copy.\n",
      "\n",
      "For example, when doing 'df[col].method(value, inplace=True)', try using 'df.method({col: value}, inplace=True)' or df[col] = df[col].method(value) instead, to perform the operation inplace on the original object.\n",
      "\n",
      "\n",
      "  data_cleaned[column].fillna(median_value, inplace=True)\n"
     ]
    },
    {
     "data": {
      "text/plain": [
       "ID                                                 0\n",
       "Model Year                                         0\n",
       "Make                                               0\n",
       "Estimated Annual Petrolum Consumption (Barrels)    0\n",
       "Fuel Type 1                                        0\n",
       "City MPG (Fuel Type 1)                             0\n",
       "Highway MPG (Fuel Type 1)                          0\n",
       "Combined MPG (Fuel Type 1)                         0\n",
       "City MPG (Fuel Type 2)                             0\n",
       "Highway MPG (Fuel Type 2)                          0\n",
       "Combined MPG (Fuel Type 2)                         0\n",
       "Engine Cylinders                                   0\n",
       "Engine Displacement                                0\n",
       "Drive                                              0\n",
       "Transmission                                       0\n",
       "Vehicle Class                                      0\n",
       "Time to Charge EV (hours at 120v)                  0\n",
       "Time to Charge EV (hours at 240v)                  0\n",
       "Range (for EV)                                     0\n",
       "City Range (for EV - Fuel Type 1)                  0\n",
       "City Range (for EV - Fuel Type 2)                  0\n",
       "Hwy Range (for EV - Fuel Type 1)                   0\n",
       "Hwy Range (for EV - Fuel Type 2)                   0\n",
       "dtype: int64"
      ]
     },
     "execution_count": 2,
     "metadata": {},
     "output_type": "execute_result"
    }
   ],
   "source": [
    "# Drop the specified columns\n",
    "data_cleaned = data_dropped.drop(['Fuel Type 2', 'Engine Description'], axis=1)\n",
    "\n",
    "# Fill missing values for 'Engine Cylinders' and 'Engine Displacement' with their median\n",
    "# since these are numerical and median is a robust measure for central tendency\n",
    "for column in ['Engine Cylinders', 'Engine Displacement']:\n",
    "    median_value = data_cleaned[column].median()\n",
    "    data_cleaned[column].fillna(median_value, inplace=True)\n",
    "\n",
    "# Drop rows with any remaining missing values (mostly in 'Drive' and 'Transmission' columns)\n",
    "data_cleaned.dropna(inplace=True)\n",
    "\n",
    "# Check again for missing values to ensure clean dataset\n",
    "final_missing_data_summary = data_cleaned.isnull().sum()\n",
    "final_missing_data_summary"
   ]
  },
  {
   "cell_type": "code",
   "execution_count": 3,
   "metadata": {},
   "outputs": [
    {
     "data": {
      "text/html": [
       "<div>\n",
       "<style scoped>\n",
       "    .dataframe tbody tr th:only-of-type {\n",
       "        vertical-align: middle;\n",
       "    }\n",
       "\n",
       "    .dataframe tbody tr th {\n",
       "        vertical-align: top;\n",
       "    }\n",
       "\n",
       "    .dataframe thead th {\n",
       "        text-align: right;\n",
       "    }\n",
       "</style>\n",
       "<table border=\"1\" class=\"dataframe\">\n",
       "  <thead>\n",
       "    <tr style=\"text-align: right;\">\n",
       "      <th></th>\n",
       "      <th>Make_AM General</th>\n",
       "      <th>Make_ASC Incorporated</th>\n",
       "      <th>Make_Acura</th>\n",
       "      <th>Make_Alfa Romeo</th>\n",
       "      <th>Make_American Motors Corporation</th>\n",
       "      <th>Make_Aston Martin</th>\n",
       "      <th>Make_Audi</th>\n",
       "      <th>Make_Aurora Cars Ltd</th>\n",
       "      <th>Make_Autokraft Limited</th>\n",
       "      <th>Make_Azure Dynamics</th>\n",
       "      <th>...</th>\n",
       "      <th>Combined MPG (Fuel Type 2)</th>\n",
       "      <th>Engine Cylinders</th>\n",
       "      <th>Engine Displacement</th>\n",
       "      <th>Time to Charge EV (hours at 120v)</th>\n",
       "      <th>Time to Charge EV (hours at 240v)</th>\n",
       "      <th>Range (for EV)</th>\n",
       "      <th>City Range (for EV - Fuel Type 1)</th>\n",
       "      <th>City Range (for EV - Fuel Type 2)</th>\n",
       "      <th>Hwy Range (for EV - Fuel Type 1)</th>\n",
       "      <th>Hwy Range (for EV - Fuel Type 2)</th>\n",
       "    </tr>\n",
       "  </thead>\n",
       "  <tbody>\n",
       "    <tr>\n",
       "      <th>0</th>\n",
       "      <td>0.0</td>\n",
       "      <td>0.0</td>\n",
       "      <td>0.0</td>\n",
       "      <td>1.0</td>\n",
       "      <td>0.0</td>\n",
       "      <td>0.0</td>\n",
       "      <td>0.0</td>\n",
       "      <td>0.0</td>\n",
       "      <td>0.0</td>\n",
       "      <td>0.0</td>\n",
       "      <td>...</td>\n",
       "      <td>-0.142095</td>\n",
       "      <td>-0.981780</td>\n",
       "      <td>-0.957931</td>\n",
       "      <td>0.0</td>\n",
       "      <td>-0.114307</td>\n",
       "      <td>-0.095085</td>\n",
       "      <td>-0.078491</td>\n",
       "      <td>-0.063956</td>\n",
       "      <td>-0.077608</td>\n",
       "      <td>-0.066445</td>\n",
       "    </tr>\n",
       "    <tr>\n",
       "      <th>1</th>\n",
       "      <td>0.0</td>\n",
       "      <td>0.0</td>\n",
       "      <td>0.0</td>\n",
       "      <td>0.0</td>\n",
       "      <td>0.0</td>\n",
       "      <td>0.0</td>\n",
       "      <td>0.0</td>\n",
       "      <td>0.0</td>\n",
       "      <td>0.0</td>\n",
       "      <td>0.0</td>\n",
       "      <td>...</td>\n",
       "      <td>-0.142095</td>\n",
       "      <td>-0.981780</td>\n",
       "      <td>-1.328246</td>\n",
       "      <td>0.0</td>\n",
       "      <td>-0.114307</td>\n",
       "      <td>-0.095085</td>\n",
       "      <td>-0.078491</td>\n",
       "      <td>-0.063956</td>\n",
       "      <td>-0.077608</td>\n",
       "      <td>-0.066445</td>\n",
       "    </tr>\n",
       "    <tr>\n",
       "      <th>2</th>\n",
       "      <td>0.0</td>\n",
       "      <td>0.0</td>\n",
       "      <td>0.0</td>\n",
       "      <td>0.0</td>\n",
       "      <td>0.0</td>\n",
       "      <td>0.0</td>\n",
       "      <td>0.0</td>\n",
       "      <td>0.0</td>\n",
       "      <td>0.0</td>\n",
       "      <td>0.0</td>\n",
       "      <td>...</td>\n",
       "      <td>-0.142095</td>\n",
       "      <td>1.283939</td>\n",
       "      <td>1.782399</td>\n",
       "      <td>0.0</td>\n",
       "      <td>-0.114307</td>\n",
       "      <td>-0.095085</td>\n",
       "      <td>-0.078491</td>\n",
       "      <td>-0.063956</td>\n",
       "      <td>-0.077608</td>\n",
       "      <td>-0.066445</td>\n",
       "    </tr>\n",
       "    <tr>\n",
       "      <th>3</th>\n",
       "      <td>0.0</td>\n",
       "      <td>0.0</td>\n",
       "      <td>0.0</td>\n",
       "      <td>0.0</td>\n",
       "      <td>0.0</td>\n",
       "      <td>0.0</td>\n",
       "      <td>0.0</td>\n",
       "      <td>0.0</td>\n",
       "      <td>0.0</td>\n",
       "      <td>0.0</td>\n",
       "      <td>...</td>\n",
       "      <td>-0.142095</td>\n",
       "      <td>1.283939</td>\n",
       "      <td>1.782399</td>\n",
       "      <td>0.0</td>\n",
       "      <td>-0.114307</td>\n",
       "      <td>-0.095085</td>\n",
       "      <td>-0.078491</td>\n",
       "      <td>-0.063956</td>\n",
       "      <td>-0.077608</td>\n",
       "      <td>-0.066445</td>\n",
       "    </tr>\n",
       "    <tr>\n",
       "      <th>4</th>\n",
       "      <td>0.0</td>\n",
       "      <td>0.0</td>\n",
       "      <td>0.0</td>\n",
       "      <td>0.0</td>\n",
       "      <td>0.0</td>\n",
       "      <td>0.0</td>\n",
       "      <td>0.0</td>\n",
       "      <td>0.0</td>\n",
       "      <td>0.0</td>\n",
       "      <td>0.0</td>\n",
       "      <td>...</td>\n",
       "      <td>-0.142095</td>\n",
       "      <td>0.151079</td>\n",
       "      <td>-0.217301</td>\n",
       "      <td>0.0</td>\n",
       "      <td>-0.114307</td>\n",
       "      <td>-0.095085</td>\n",
       "      <td>-0.078491</td>\n",
       "      <td>-0.063956</td>\n",
       "      <td>-0.077608</td>\n",
       "      <td>-0.066445</td>\n",
       "    </tr>\n",
       "  </tbody>\n",
       "</table>\n",
       "<p>5 rows × 243 columns</p>\n",
       "</div>"
      ],
      "text/plain": [
       "   Make_AM General  Make_ASC Incorporated  Make_Acura  Make_Alfa Romeo  \\\n",
       "0              0.0                    0.0         0.0              1.0   \n",
       "1              0.0                    0.0         0.0              0.0   \n",
       "2              0.0                    0.0         0.0              0.0   \n",
       "3              0.0                    0.0         0.0              0.0   \n",
       "4              0.0                    0.0         0.0              0.0   \n",
       "\n",
       "   Make_American Motors Corporation  Make_Aston Martin  Make_Audi  \\\n",
       "0                               0.0                0.0        0.0   \n",
       "1                               0.0                0.0        0.0   \n",
       "2                               0.0                0.0        0.0   \n",
       "3                               0.0                0.0        0.0   \n",
       "4                               0.0                0.0        0.0   \n",
       "\n",
       "   Make_Aurora Cars Ltd  Make_Autokraft Limited  Make_Azure Dynamics  ...  \\\n",
       "0                   0.0                     0.0                  0.0  ...   \n",
       "1                   0.0                     0.0                  0.0  ...   \n",
       "2                   0.0                     0.0                  0.0  ...   \n",
       "3                   0.0                     0.0                  0.0  ...   \n",
       "4                   0.0                     0.0                  0.0  ...   \n",
       "\n",
       "   Combined MPG (Fuel Type 2)  Engine Cylinders  Engine Displacement  \\\n",
       "0                   -0.142095         -0.981780            -0.957931   \n",
       "1                   -0.142095         -0.981780            -1.328246   \n",
       "2                   -0.142095          1.283939             1.782399   \n",
       "3                   -0.142095          1.283939             1.782399   \n",
       "4                   -0.142095          0.151079            -0.217301   \n",
       "\n",
       "   Time to Charge EV (hours at 120v)  Time to Charge EV (hours at 240v)  \\\n",
       "0                                0.0                          -0.114307   \n",
       "1                                0.0                          -0.114307   \n",
       "2                                0.0                          -0.114307   \n",
       "3                                0.0                          -0.114307   \n",
       "4                                0.0                          -0.114307   \n",
       "\n",
       "   Range (for EV)  City Range (for EV - Fuel Type 1)  \\\n",
       "0       -0.095085                          -0.078491   \n",
       "1       -0.095085                          -0.078491   \n",
       "2       -0.095085                          -0.078491   \n",
       "3       -0.095085                          -0.078491   \n",
       "4       -0.095085                          -0.078491   \n",
       "\n",
       "   City Range (for EV - Fuel Type 2)  Hwy Range (for EV - Fuel Type 1)  \\\n",
       "0                          -0.063956                         -0.077608   \n",
       "1                          -0.063956                         -0.077608   \n",
       "2                          -0.063956                         -0.077608   \n",
       "3                          -0.063956                         -0.077608   \n",
       "4                          -0.063956                         -0.077608   \n",
       "\n",
       "   Hwy Range (for EV - Fuel Type 2)  \n",
       "0                         -0.066445  \n",
       "1                         -0.066445  \n",
       "2                         -0.066445  \n",
       "3                         -0.066445  \n",
       "4                         -0.066445  \n",
       "\n",
       "[5 rows x 243 columns]"
      ]
     },
     "execution_count": 3,
     "metadata": {},
     "output_type": "execute_result"
    }
   ],
   "source": [
    "from sklearn.preprocessing import OneHotEncoder, StandardScaler\n",
    "import pandas as pd\n",
    "\n",
    "# Assuming 'data_cleaned' is your DataFrame after initial preprocessing\n",
    "\n",
    "# Select categorical columns for one-hot encoding\n",
    "categorical_columns = ['Make', 'Fuel Type 1', 'Drive', 'Transmission', 'Vehicle Class']\n",
    "one_hot_encoder = OneHotEncoder()\n",
    "encoded_categorical = one_hot_encoder.fit_transform(data_cleaned[categorical_columns]).toarray()\n",
    "\n",
    "# Create a DataFrame from the encoded categorical data\n",
    "encoded_categorical_df = pd.DataFrame(encoded_categorical, columns=one_hot_encoder.get_feature_names_out(categorical_columns))\n",
    "encoded_categorical_df.index = data_cleaned.index  # To align indices\n",
    "\n",
    "# Carefully select and verify the numeric columns\n",
    "numeric_columns = [col for col in data_cleaned.columns if col not in categorical_columns and data_cleaned[col].dtype in ['int64', 'float64']]\n",
    "scaler = StandardScaler()\n",
    "normalized_numeric = scaler.fit_transform(data_cleaned[numeric_columns])\n",
    "\n",
    "# Create a DataFrame from the normalized numeric data\n",
    "normalized_numeric_df = pd.DataFrame(normalized_numeric, columns=numeric_columns)\n",
    "normalized_numeric_df.index = data_cleaned.index  # To align indices\n",
    "\n",
    "# Combine the encoded and normalized data\n",
    "final_preprocessed_data = pd.concat([encoded_categorical_df, normalized_numeric_df], axis=1)\n",
    "final_preprocessed_data.head()\n"
   ]
  },
  {
   "cell_type": "code",
   "execution_count": 7,
   "metadata": {},
   "outputs": [
    {
     "name": "stderr",
     "output_type": "stream",
     "text": [
      "/Library/Frameworks/Python.framework/Versions/3.12/lib/python3.12/site-packages/keras/src/layers/core/dense.py:87: UserWarning: Do not pass an `input_shape`/`input_dim` argument to a layer. When using Sequential models, prefer using an `Input(shape)` object as the first layer in the model instead.\n",
      "  super().__init__(activity_regularizer=activity_regularizer, **kwargs)\n"
     ]
    },
    {
     "data": {
      "text/html": [
       "<pre style=\"white-space:pre;overflow-x:auto;line-height:normal;font-family:Menlo,'DejaVu Sans Mono',consolas,'Courier New',monospace\"><span style=\"font-weight: bold\">Model: \"sequential_1\"</span>\n",
       "</pre>\n"
      ],
      "text/plain": [
       "\u001b[1mModel: \"sequential_1\"\u001b[0m\n"
      ]
     },
     "metadata": {},
     "output_type": "display_data"
    },
    {
     "data": {
      "text/html": [
       "<pre style=\"white-space:pre;overflow-x:auto;line-height:normal;font-family:Menlo,'DejaVu Sans Mono',consolas,'Courier New',monospace\">┏━━━━━━━━━━━━━━━━━━━━━━━━━━━━━━━━━┳━━━━━━━━━━━━━━━━━━━━━━━━┳━━━━━━━━━━━━━━━┓\n",
       "┃<span style=\"font-weight: bold\"> Layer (type)                    </span>┃<span style=\"font-weight: bold\"> Output Shape           </span>┃<span style=\"font-weight: bold\">       Param # </span>┃\n",
       "┡━━━━━━━━━━━━━━━━━━━━━━━━━━━━━━━━━╇━━━━━━━━━━━━━━━━━━━━━━━━╇━━━━━━━━━━━━━━━┩\n",
       "│ dense_3 (<span style=\"color: #0087ff; text-decoration-color: #0087ff\">Dense</span>)                 │ (<span style=\"color: #00d7ff; text-decoration-color: #00d7ff\">None</span>, <span style=\"color: #00af00; text-decoration-color: #00af00\">128</span>)            │        <span style=\"color: #00af00; text-decoration-color: #00af00\">13,440</span> │\n",
       "├─────────────────────────────────┼────────────────────────┼───────────────┤\n",
       "│ dense_4 (<span style=\"color: #0087ff; text-decoration-color: #0087ff\">Dense</span>)                 │ (<span style=\"color: #00d7ff; text-decoration-color: #00d7ff\">None</span>, <span style=\"color: #00af00; text-decoration-color: #00af00\">64</span>)             │         <span style=\"color: #00af00; text-decoration-color: #00af00\">8,256</span> │\n",
       "├─────────────────────────────────┼────────────────────────┼───────────────┤\n",
       "│ dense_5 (<span style=\"color: #0087ff; text-decoration-color: #0087ff\">Dense</span>)                 │ (<span style=\"color: #00d7ff; text-decoration-color: #00d7ff\">None</span>, <span style=\"color: #00af00; text-decoration-color: #00af00\">139</span>)            │         <span style=\"color: #00af00; text-decoration-color: #00af00\">9,035</span> │\n",
       "└─────────────────────────────────┴────────────────────────┴───────────────┘\n",
       "</pre>\n"
      ],
      "text/plain": [
       "┏━━━━━━━━━━━━━━━━━━━━━━━━━━━━━━━━━┳━━━━━━━━━━━━━━━━━━━━━━━━┳━━━━━━━━━━━━━━━┓\n",
       "┃\u001b[1m \u001b[0m\u001b[1mLayer (type)                   \u001b[0m\u001b[1m \u001b[0m┃\u001b[1m \u001b[0m\u001b[1mOutput Shape          \u001b[0m\u001b[1m \u001b[0m┃\u001b[1m \u001b[0m\u001b[1m      Param #\u001b[0m\u001b[1m \u001b[0m┃\n",
       "┡━━━━━━━━━━━━━━━━━━━━━━━━━━━━━━━━━╇━━━━━━━━━━━━━━━━━━━━━━━━╇━━━━━━━━━━━━━━━┩\n",
       "│ dense_3 (\u001b[38;5;33mDense\u001b[0m)                 │ (\u001b[38;5;45mNone\u001b[0m, \u001b[38;5;34m128\u001b[0m)            │        \u001b[38;5;34m13,440\u001b[0m │\n",
       "├─────────────────────────────────┼────────────────────────┼───────────────┤\n",
       "│ dense_4 (\u001b[38;5;33mDense\u001b[0m)                 │ (\u001b[38;5;45mNone\u001b[0m, \u001b[38;5;34m64\u001b[0m)             │         \u001b[38;5;34m8,256\u001b[0m │\n",
       "├─────────────────────────────────┼────────────────────────┼───────────────┤\n",
       "│ dense_5 (\u001b[38;5;33mDense\u001b[0m)                 │ (\u001b[38;5;45mNone\u001b[0m, \u001b[38;5;34m139\u001b[0m)            │         \u001b[38;5;34m9,035\u001b[0m │\n",
       "└─────────────────────────────────┴────────────────────────┴───────────────┘\n"
      ]
     },
     "metadata": {},
     "output_type": "display_data"
    },
    {
     "data": {
      "text/html": [
       "<pre style=\"white-space:pre;overflow-x:auto;line-height:normal;font-family:Menlo,'DejaVu Sans Mono',consolas,'Courier New',monospace\"><span style=\"font-weight: bold\"> Total params: </span><span style=\"color: #00af00; text-decoration-color: #00af00\">30,731</span> (120.04 KB)\n",
       "</pre>\n"
      ],
      "text/plain": [
       "\u001b[1m Total params: \u001b[0m\u001b[38;5;34m30,731\u001b[0m (120.04 KB)\n"
      ]
     },
     "metadata": {},
     "output_type": "display_data"
    },
    {
     "data": {
      "text/html": [
       "<pre style=\"white-space:pre;overflow-x:auto;line-height:normal;font-family:Menlo,'DejaVu Sans Mono',consolas,'Courier New',monospace\"><span style=\"font-weight: bold\"> Trainable params: </span><span style=\"color: #00af00; text-decoration-color: #00af00\">30,731</span> (120.04 KB)\n",
       "</pre>\n"
      ],
      "text/plain": [
       "\u001b[1m Trainable params: \u001b[0m\u001b[38;5;34m30,731\u001b[0m (120.04 KB)\n"
      ]
     },
     "metadata": {},
     "output_type": "display_data"
    },
    {
     "data": {
      "text/html": [
       "<pre style=\"white-space:pre;overflow-x:auto;line-height:normal;font-family:Menlo,'DejaVu Sans Mono',consolas,'Courier New',monospace\"><span style=\"font-weight: bold\"> Non-trainable params: </span><span style=\"color: #00af00; text-decoration-color: #00af00\">0</span> (0.00 B)\n",
       "</pre>\n"
      ],
      "text/plain": [
       "\u001b[1m Non-trainable params: \u001b[0m\u001b[38;5;34m0\u001b[0m (0.00 B)\n"
      ]
     },
     "metadata": {},
     "output_type": "display_data"
    }
   ],
   "source": [
    "from sklearn.model_selection import train_test_split\n",
    "from tensorflow.keras.models import Sequential\n",
    "from tensorflow.keras.layers import Dense\n",
    "from tensorflow.keras.utils import to_categorical\n",
    "\n",
    "# Prepare the target data (y) and feature data (X)\n",
    "X = final_preprocessed_data.drop([col for col in final_preprocessed_data.columns if 'Make_' in col], axis=1)\n",
    "y = final_preprocessed_data[[col for col in final_preprocessed_data.columns if 'Make_' in col]]\n",
    "\n",
    "# Split data into training and testing sets\n",
    "X_train, X_test, y_train, y_test = train_test_split(X, y, test_size=0.2, random_state=42)\n",
    "\n",
    "# Build the neural network model\n",
    "model = Sequential([\n",
    "    Dense(128, activation='relu', input_shape=(X_train.shape[1],)),\n",
    "    Dense(64, activation='relu'),\n",
    "    Dense(y_train.shape[1], activation='softmax')\n",
    "])\n",
    "\n",
    "# Compile the model\n",
    "model.compile(optimizer='adam', loss='categorical_crossentropy', metrics=['accuracy'])\n",
    "\n",
    "# Overview of the model\n",
    "model.summary()"
   ]
  },
  {
   "cell_type": "code",
   "execution_count": 8,
   "metadata": {},
   "outputs": [
    {
     "name": "stdout",
     "output_type": "stream",
     "text": [
      "Epoch 1/30\n"
     ]
    },
    {
     "name": "stdout",
     "output_type": "stream",
     "text": [
      "\u001b[1m894/894\u001b[0m \u001b[32m━━━━━━━━━━━━━━━━━━━━\u001b[0m\u001b[37m\u001b[0m \u001b[1m1s\u001b[0m 468us/step - accuracy: 0.1904 - loss: 3.1897 - val_accuracy: 0.3526 - val_loss: 2.1288\n",
      "Epoch 2/30\n",
      "\u001b[1m894/894\u001b[0m \u001b[32m━━━━━━━━━━━━━━━━━━━━\u001b[0m\u001b[37m\u001b[0m \u001b[1m0s\u001b[0m 428us/step - accuracy: 0.3734 - loss: 2.0020 - val_accuracy: 0.4023 - val_loss: 1.8832\n",
      "Epoch 3/30\n",
      "\u001b[1m894/894\u001b[0m \u001b[32m━━━━━━━━━━━━━━━━━━━━\u001b[0m\u001b[37m\u001b[0m \u001b[1m0s\u001b[0m 409us/step - accuracy: 0.4323 - loss: 1.7817 - val_accuracy: 0.4285 - val_loss: 1.7637\n",
      "Epoch 4/30\n",
      "\u001b[1m894/894\u001b[0m \u001b[32m━━━━━━━━━━━━━━━━━━━━\u001b[0m\u001b[37m\u001b[0m \u001b[1m0s\u001b[0m 405us/step - accuracy: 0.4610 - loss: 1.6461 - val_accuracy: 0.4481 - val_loss: 1.6768\n",
      "Epoch 5/30\n",
      "\u001b[1m894/894\u001b[0m \u001b[32m━━━━━━━━━━━━━━━━━━━━\u001b[0m\u001b[37m\u001b[0m \u001b[1m0s\u001b[0m 410us/step - accuracy: 0.4791 - loss: 1.5559 - val_accuracy: 0.4565 - val_loss: 1.6387\n",
      "Epoch 6/30\n",
      "\u001b[1m894/894\u001b[0m \u001b[32m━━━━━━━━━━━━━━━━━━━━\u001b[0m\u001b[37m\u001b[0m \u001b[1m0s\u001b[0m 408us/step - accuracy: 0.4887 - loss: 1.5031 - val_accuracy: 0.4696 - val_loss: 1.5824\n",
      "Epoch 7/30\n",
      "\u001b[1m894/894\u001b[0m \u001b[32m━━━━━━━━━━━━━━━━━━━━\u001b[0m\u001b[37m\u001b[0m \u001b[1m0s\u001b[0m 405us/step - accuracy: 0.5109 - loss: 1.4448 - val_accuracy: 0.4787 - val_loss: 1.5627\n",
      "Epoch 8/30\n",
      "\u001b[1m894/894\u001b[0m \u001b[32m━━━━━━━━━━━━━━━━━━━━\u001b[0m\u001b[37m\u001b[0m \u001b[1m0s\u001b[0m 401us/step - accuracy: 0.5181 - loss: 1.3875 - val_accuracy: 0.4948 - val_loss: 1.5039\n",
      "Epoch 9/30\n",
      "\u001b[1m894/894\u001b[0m \u001b[32m━━━━━━━━━━━━━━━━━━━━\u001b[0m\u001b[37m\u001b[0m \u001b[1m0s\u001b[0m 406us/step - accuracy: 0.5357 - loss: 1.3337 - val_accuracy: 0.5012 - val_loss: 1.4794\n",
      "Epoch 10/30\n",
      "\u001b[1m894/894\u001b[0m \u001b[32m━━━━━━━━━━━━━━━━━━━━\u001b[0m\u001b[37m\u001b[0m \u001b[1m0s\u001b[0m 412us/step - accuracy: 0.5415 - loss: 1.3106 - val_accuracy: 0.5026 - val_loss: 1.4543\n",
      "Epoch 11/30\n",
      "\u001b[1m894/894\u001b[0m \u001b[32m━━━━━━━━━━━━━━━━━━━━\u001b[0m\u001b[37m\u001b[0m \u001b[1m0s\u001b[0m 408us/step - accuracy: 0.5474 - loss: 1.2841 - val_accuracy: 0.5128 - val_loss: 1.4258\n",
      "Epoch 12/30\n",
      "\u001b[1m894/894\u001b[0m \u001b[32m━━━━━━━━━━━━━━━━━━━━\u001b[0m\u001b[37m\u001b[0m \u001b[1m0s\u001b[0m 413us/step - accuracy: 0.5567 - loss: 1.2450 - val_accuracy: 0.5173 - val_loss: 1.4083\n",
      "Epoch 13/30\n",
      "\u001b[1m894/894\u001b[0m \u001b[32m━━━━━━━━━━━━━━━━━━━━\u001b[0m\u001b[37m\u001b[0m \u001b[1m0s\u001b[0m 411us/step - accuracy: 0.5650 - loss: 1.2222 - val_accuracy: 0.5301 - val_loss: 1.3745\n",
      "Epoch 14/30\n",
      "\u001b[1m894/894\u001b[0m \u001b[32m━━━━━━━━━━━━━━━━━━━━\u001b[0m\u001b[37m\u001b[0m \u001b[1m0s\u001b[0m 406us/step - accuracy: 0.5701 - loss: 1.2009 - val_accuracy: 0.5321 - val_loss: 1.3599\n",
      "Epoch 15/30\n",
      "\u001b[1m894/894\u001b[0m \u001b[32m━━━━━━━━━━━━━━━━━━━━\u001b[0m\u001b[37m\u001b[0m \u001b[1m0s\u001b[0m 410us/step - accuracy: 0.5734 - loss: 1.1809 - val_accuracy: 0.5300 - val_loss: 1.3628\n",
      "Epoch 16/30\n",
      "\u001b[1m894/894\u001b[0m \u001b[32m━━━━━━━━━━━━━━━━━━━━\u001b[0m\u001b[37m\u001b[0m \u001b[1m0s\u001b[0m 420us/step - accuracy: 0.5815 - loss: 1.1560 - val_accuracy: 0.5335 - val_loss: 1.3421\n",
      "Epoch 17/30\n",
      "\u001b[1m894/894\u001b[0m \u001b[32m━━━━━━━━━━━━━━━━━━━━\u001b[0m\u001b[37m\u001b[0m \u001b[1m0s\u001b[0m 408us/step - accuracy: 0.5913 - loss: 1.1284 - val_accuracy: 0.5343 - val_loss: 1.3442\n",
      "Epoch 18/30\n",
      "\u001b[1m894/894\u001b[0m \u001b[32m━━━━━━━━━━━━━━━━━━━━\u001b[0m\u001b[37m\u001b[0m \u001b[1m0s\u001b[0m 411us/step - accuracy: 0.5982 - loss: 1.1149 - val_accuracy: 0.5433 - val_loss: 1.3097\n",
      "Epoch 19/30\n",
      "\u001b[1m894/894\u001b[0m \u001b[32m━━━━━━━━━━━━━━━━━━━━\u001b[0m\u001b[37m\u001b[0m \u001b[1m0s\u001b[0m 405us/step - accuracy: 0.6018 - loss: 1.0912 - val_accuracy: 0.5449 - val_loss: 1.3090\n",
      "Epoch 20/30\n",
      "\u001b[1m894/894\u001b[0m \u001b[32m━━━━━━━━━━━━━━━━━━━━\u001b[0m\u001b[37m\u001b[0m \u001b[1m0s\u001b[0m 407us/step - accuracy: 0.6053 - loss: 1.0811 - val_accuracy: 0.5511 - val_loss: 1.2933\n",
      "Epoch 21/30\n",
      "\u001b[1m894/894\u001b[0m \u001b[32m━━━━━━━━━━━━━━━━━━━━\u001b[0m\u001b[37m\u001b[0m \u001b[1m0s\u001b[0m 409us/step - accuracy: 0.6063 - loss: 1.0569 - val_accuracy: 0.5574 - val_loss: 1.2859\n",
      "Epoch 22/30\n",
      "\u001b[1m894/894\u001b[0m \u001b[32m━━━━━━━━━━━━━━━━━━━━\u001b[0m\u001b[37m\u001b[0m \u001b[1m0s\u001b[0m 410us/step - accuracy: 0.6143 - loss: 1.0553 - val_accuracy: 0.5575 - val_loss: 1.2715\n",
      "Epoch 23/30\n",
      "\u001b[1m894/894\u001b[0m \u001b[32m━━━━━━━━━━━━━━━━━━━━\u001b[0m\u001b[37m\u001b[0m \u001b[1m0s\u001b[0m 408us/step - accuracy: 0.6123 - loss: 1.0384 - val_accuracy: 0.5602 - val_loss: 1.2582\n",
      "Epoch 24/30\n",
      "\u001b[1m894/894\u001b[0m \u001b[32m━━━━━━━━━━━━━━━━━━━━\u001b[0m\u001b[37m\u001b[0m \u001b[1m0s\u001b[0m 406us/step - accuracy: 0.6204 - loss: 1.0401 - val_accuracy: 0.5560 - val_loss: 1.2801\n",
      "Epoch 25/30\n",
      "\u001b[1m894/894\u001b[0m \u001b[32m━━━━━━━━━━━━━━━━━━━━\u001b[0m\u001b[37m\u001b[0m \u001b[1m0s\u001b[0m 408us/step - accuracy: 0.6198 - loss: 1.0205 - val_accuracy: 0.5672 - val_loss: 1.2461\n",
      "Epoch 26/30\n",
      "\u001b[1m894/894\u001b[0m \u001b[32m━━━━━━━━━━━━━━━━━━━━\u001b[0m\u001b[37m\u001b[0m \u001b[1m0s\u001b[0m 406us/step - accuracy: 0.6349 - loss: 0.9951 - val_accuracy: 0.5647 - val_loss: 1.2514\n",
      "Epoch 27/30\n",
      "\u001b[1m894/894\u001b[0m \u001b[32m━━━━━━━━━━━━━━━━━━━━\u001b[0m\u001b[37m\u001b[0m \u001b[1m0s\u001b[0m 407us/step - accuracy: 0.6327 - loss: 0.9878 - val_accuracy: 0.5675 - val_loss: 1.2375\n",
      "Epoch 28/30\n",
      "\u001b[1m894/894\u001b[0m \u001b[32m━━━━━━━━━━━━━━━━━━━━\u001b[0m\u001b[37m\u001b[0m \u001b[1m0s\u001b[0m 407us/step - accuracy: 0.6359 - loss: 0.9746 - val_accuracy: 0.5677 - val_loss: 1.2263\n",
      "Epoch 29/30\n",
      "\u001b[1m894/894\u001b[0m \u001b[32m━━━━━━━━━━━━━━━━━━━━\u001b[0m\u001b[37m\u001b[0m \u001b[1m0s\u001b[0m 409us/step - accuracy: 0.6359 - loss: 0.9693 - val_accuracy: 0.5725 - val_loss: 1.2352\n",
      "Epoch 30/30\n",
      "\u001b[1m894/894\u001b[0m \u001b[32m━━━━━━━━━━━━━━━━━━━━\u001b[0m\u001b[37m\u001b[0m \u001b[1m0s\u001b[0m 405us/step - accuracy: 0.6397 - loss: 0.9616 - val_accuracy: 0.5582 - val_loss: 1.2573\n"
     ]
    }
   ],
   "source": [
    "# Train the model\n",
    "history = model.fit(X_train, y_train, epochs=30, validation_split=0.2, batch_size=32)"
   ]
  },
  {
   "cell_type": "code",
   "execution_count": 9,
   "metadata": {},
   "outputs": [
    {
     "data": {
      "image/png": "[encoded data removed]",
      "text/plain": [
       "<Figure size 640x480 with 1 Axes>"
      ]
     },
     "metadata": {},
     "output_type": "display_data"
    },
    {
     "data": {
      "image/png": "[encoded data removed]",
      "text/plain": [
       "<Figure size 640x480 with 1 Axes>"
      ]
     },
     "metadata": {},
     "output_type": "display_data"
    }
   ],
   "source": [
    "import matplotlib.pyplot as plt\n",
    "\n",
    "# Plot training & validation accuracy values\n",
    "plt.plot(history.history['accuracy'])\n",
    "plt.plot(history.history['val_accuracy'])\n",
    "plt.title('Model Accuracy')\n",
    "plt.ylabel('Accuracy')\n",
    "plt.xlabel('Epoch')\n",
    "plt.legend(['Train', 'Test'], loc='upper left')\n",
    "plt.show()\n",
    "\n",
    "# Plot training & validation loss values\n",
    "plt.plot(history.history['loss'])\n",
    "plt.plot(history.history['val_loss'])\n",
    "plt.title('Model Loss')\n",
    "plt.ylabel('Loss')\n",
    "plt.xlabel('Epoch')\n",
    "plt.legend(['Train', 'Test'], loc='upper left')\n",
    "plt.show()"
   ]
  },
  {
   "cell_type": "code",
   "execution_count": 10,
   "metadata": {},
   "outputs": [
    {
     "name": "stdout",
     "output_type": "stream",
     "text": [
      "\u001b[1m280/280\u001b[0m \u001b[32m━━━━━━━━━━━━━━━━━━━━\u001b[0m\u001b[37m\u001b[0m \u001b[1m0s\u001b[0m 247us/step - accuracy: 0.5763 - loss: 1.2059\n",
      "Test Accuracy: 0.5822615027427673\n"
     ]
    }
   ],
   "source": [
    "# Evaluate the model on the test data\n",
    "test_loss, test_accuracy = model.evaluate(X_test, y_test)\n",
    "print(\"Test Accuracy:\", test_accuracy)"
   ]
  },
  {
   "cell_type": "code",
   "execution_count": 31,
   "metadata": {},
   "outputs": [
    {
     "ename": "NotFittedError",
     "evalue": "This OneHotEncoder instance is not fitted yet. Call 'fit' with appropriate arguments before using this estimator.",
     "output_type": "error",
     "traceback": [
      "\u001b[0;31m---------------------------------------------------------------------------\u001b[0m",
      "\u001b[0;31mNotFittedError\u001b[0m                            Traceback (most recent call last)",
      "Cell \u001b[0;32mIn[31], line 23\u001b[0m\n\u001b[1;32m     18\u001b[0m \u001b[38;5;66;03m# Assuming you've already fitted the OneHotEncoder and StandardScaler during training:\u001b[39;00m\n\u001b[1;32m     19\u001b[0m \u001b[38;5;66;03m# (Replace 'encoder' and 'scaler' with your actual variables if they have different names)\u001b[39;00m\n\u001b[1;32m     20\u001b[0m \n\u001b[1;32m     21\u001b[0m \u001b[38;5;66;03m# Encoding categorical data\u001b[39;00m\n\u001b[1;32m     22\u001b[0m categorical_features \u001b[38;5;241m=\u001b[39m [\u001b[38;5;124m'\u001b[39m\u001b[38;5;124mFuel Type 1\u001b[39m\u001b[38;5;124m'\u001b[39m, \u001b[38;5;124m'\u001b[39m\u001b[38;5;124mDrive\u001b[39m\u001b[38;5;124m'\u001b[39m, \u001b[38;5;124m'\u001b[39m\u001b[38;5;124mTransmission\u001b[39m\u001b[38;5;124m'\u001b[39m, \u001b[38;5;124m'\u001b[39m\u001b[38;5;124mVehicle Class\u001b[39m\u001b[38;5;124m'\u001b[39m]\n\u001b[0;32m---> 23\u001b[0m encoded_features \u001b[38;5;241m=\u001b[39m \u001b[43mencoder\u001b[49m\u001b[38;5;241;43m.\u001b[39;49m\u001b[43mtransform\u001b[49m\u001b[43m(\u001b[49m\u001b[43mnew_data\u001b[49m\u001b[43m[\u001b[49m\u001b[43mcategorical_features\u001b[49m\u001b[43m]\u001b[49m\u001b[43m)\u001b[49m\u001b[38;5;241m.\u001b[39mtoarray()\n\u001b[1;32m     24\u001b[0m encoded_features_df \u001b[38;5;241m=\u001b[39m pd\u001b[38;5;241m.\u001b[39mDataFrame(encoded_features, columns\u001b[38;5;241m=\u001b[39mencoder\u001b[38;5;241m.\u001b[39mget_feature_names_out(categorical_features))\n\u001b[1;32m     26\u001b[0m \u001b[38;5;66;03m# Normalizing numeric data\u001b[39;00m\n",
      "File \u001b[0;32m/Library/Frameworks/Python.framework/Versions/3.12/lib/python3.12/site-packages/sklearn/utils/_set_output.py:295\u001b[0m, in \u001b[0;36m_wrap_method_output.<locals>.wrapped\u001b[0;34m(self, X, *args, **kwargs)\u001b[0m\n\u001b[1;32m    293\u001b[0m \u001b[38;5;129m@wraps\u001b[39m(f)\n\u001b[1;32m    294\u001b[0m \u001b[38;5;28;01mdef\u001b[39;00m \u001b[38;5;21mwrapped\u001b[39m(\u001b[38;5;28mself\u001b[39m, X, \u001b[38;5;241m*\u001b[39margs, \u001b[38;5;241m*\u001b[39m\u001b[38;5;241m*\u001b[39mkwargs):\n\u001b[0;32m--> 295\u001b[0m     data_to_wrap \u001b[38;5;241m=\u001b[39m \u001b[43mf\u001b[49m\u001b[43m(\u001b[49m\u001b[38;5;28;43mself\u001b[39;49m\u001b[43m,\u001b[49m\u001b[43m \u001b[49m\u001b[43mX\u001b[49m\u001b[43m,\u001b[49m\u001b[43m \u001b[49m\u001b[38;5;241;43m*\u001b[39;49m\u001b[43margs\u001b[49m\u001b[43m,\u001b[49m\u001b[43m \u001b[49m\u001b[38;5;241;43m*\u001b[39;49m\u001b[38;5;241;43m*\u001b[39;49m\u001b[43mkwargs\u001b[49m\u001b[43m)\u001b[49m\n\u001b[1;32m    296\u001b[0m     \u001b[38;5;28;01mif\u001b[39;00m \u001b[38;5;28misinstance\u001b[39m(data_to_wrap, \u001b[38;5;28mtuple\u001b[39m):\n\u001b[1;32m    297\u001b[0m         \u001b[38;5;66;03m# only wrap the first output for cross decomposition\u001b[39;00m\n\u001b[1;32m    298\u001b[0m         return_tuple \u001b[38;5;241m=\u001b[39m (\n\u001b[1;32m    299\u001b[0m             _wrap_data_with_container(method, data_to_wrap[\u001b[38;5;241m0\u001b[39m], X, \u001b[38;5;28mself\u001b[39m),\n\u001b[1;32m    300\u001b[0m             \u001b[38;5;241m*\u001b[39mdata_to_wrap[\u001b[38;5;241m1\u001b[39m:],\n\u001b[1;32m    301\u001b[0m         )\n",
      "File \u001b[0;32m/Library/Frameworks/Python.framework/Versions/3.12/lib/python3.12/site-packages/sklearn/preprocessing/_encoders.py:1007\u001b[0m, in \u001b[0;36mOneHotEncoder.transform\u001b[0;34m(self, X)\u001b[0m\n\u001b[1;32m    984\u001b[0m \u001b[38;5;28;01mdef\u001b[39;00m \u001b[38;5;21mtransform\u001b[39m(\u001b[38;5;28mself\u001b[39m, X):\n\u001b[1;32m    985\u001b[0m \u001b[38;5;250m    \u001b[39m\u001b[38;5;124;03m\"\"\"\u001b[39;00m\n\u001b[1;32m    986\u001b[0m \u001b[38;5;124;03m    Transform X using one-hot encoding.\u001b[39;00m\n\u001b[1;32m    987\u001b[0m \n\u001b[0;32m   (...)\u001b[0m\n\u001b[1;32m   1005\u001b[0m \u001b[38;5;124;03m        returned.\u001b[39;00m\n\u001b[1;32m   1006\u001b[0m \u001b[38;5;124;03m    \"\"\"\u001b[39;00m\n\u001b[0;32m-> 1007\u001b[0m     \u001b[43mcheck_is_fitted\u001b[49m\u001b[43m(\u001b[49m\u001b[38;5;28;43mself\u001b[39;49m\u001b[43m)\u001b[49m\n\u001b[1;32m   1008\u001b[0m     transform_output \u001b[38;5;241m=\u001b[39m _get_output_config(\u001b[38;5;124m\"\u001b[39m\u001b[38;5;124mtransform\u001b[39m\u001b[38;5;124m\"\u001b[39m, estimator\u001b[38;5;241m=\u001b[39m\u001b[38;5;28mself\u001b[39m)[\u001b[38;5;124m\"\u001b[39m\u001b[38;5;124mdense\u001b[39m\u001b[38;5;124m\"\u001b[39m]\n\u001b[1;32m   1009\u001b[0m     \u001b[38;5;28;01mif\u001b[39;00m transform_output \u001b[38;5;241m!=\u001b[39m \u001b[38;5;124m\"\u001b[39m\u001b[38;5;124mdefault\u001b[39m\u001b[38;5;124m\"\u001b[39m \u001b[38;5;129;01mand\u001b[39;00m \u001b[38;5;28mself\u001b[39m\u001b[38;5;241m.\u001b[39msparse_output:\n",
      "File \u001b[0;32m/Library/Frameworks/Python.framework/Versions/3.12/lib/python3.12/site-packages/sklearn/utils/validation.py:1622\u001b[0m, in \u001b[0;36mcheck_is_fitted\u001b[0;34m(estimator, attributes, msg, all_or_any)\u001b[0m\n\u001b[1;32m   1619\u001b[0m     \u001b[38;5;28;01mraise\u001b[39;00m \u001b[38;5;167;01mTypeError\u001b[39;00m(\u001b[38;5;124m\"\u001b[39m\u001b[38;5;132;01m%s\u001b[39;00m\u001b[38;5;124m is not an estimator instance.\u001b[39m\u001b[38;5;124m\"\u001b[39m \u001b[38;5;241m%\u001b[39m (estimator))\n\u001b[1;32m   1621\u001b[0m \u001b[38;5;28;01mif\u001b[39;00m \u001b[38;5;129;01mnot\u001b[39;00m _is_fitted(estimator, attributes, all_or_any):\n\u001b[0;32m-> 1622\u001b[0m     \u001b[38;5;28;01mraise\u001b[39;00m NotFittedError(msg \u001b[38;5;241m%\u001b[39m {\u001b[38;5;124m\"\u001b[39m\u001b[38;5;124mname\u001b[39m\u001b[38;5;124m\"\u001b[39m: \u001b[38;5;28mtype\u001b[39m(estimator)\u001b[38;5;241m.\u001b[39m\u001b[38;5;18m__name__\u001b[39m})\n",
      "\u001b[0;31mNotFittedError\u001b[0m: This OneHotEncoder instance is not fitted yet. Call 'fit' with appropriate arguments before using this estimator."
     ]
    }
   ],
   "source": [
    "import pandas as pd\n",
    "from sklearn.preprocessing import StandardScaler, OneHotEncoder\n",
    "\n",
    "# Example new data matching the trained model's categories and features\n",
    "new_data = pd.DataFrame({\n",
    "    'Model Year': [2020],  # Use a year within the range the model has seen\n",
    "    'Fuel Type 1': ['Regular Gasoline'],  # Must match one of the categories used during training\n",
    "    'Drive': ['Front-Wheel Drive'],  # Must match one of the categories used during training\n",
    "    'Transmission': ['Automatic'],  # Must match one of the categories used during training\n",
    "    'Vehicle Class': ['Compact'],  # Must match one of the categories used during training\n",
    "    'City MPG (Fuel Type 1)': [25],  # Ensure the range is typical of what was in training data\n",
    "    'Highway MPG (Fuel Type 1)': [32],  # Ensure the range is typical of what was in training data\n",
    "    'Combined MPG (Fuel Type 1)': [28],  # Ensure the range is typical of what was in training data\n",
    "    'Engine Cylinders': [4],  # Use common values from the dataset\n",
    "    'Engine Displacement': [2.0]  # Use common values from the dataset\n",
    "})\n",
    "\n",
    "# Assuming you've already fitted the OneHotEncoder and StandardScaler during training:\n",
    "# (Replace 'encoder' and 'scaler' with your actual variables if they have different names)\n",
    "\n",
    "# Encoding categorical data\n",
    "categorical_features = ['Fuel Type 1', 'Drive', 'Transmission', 'Vehicle Class']\n",
    "encoded_features = encoder.transform(new_data[categorical_features]).toarray()\n",
    "encoded_features_df = pd.DataFrame(encoded_features, columns=encoder.get_feature_names_out(categorical_features))\n",
    "\n",
    "# Normalizing numeric data\n",
    "numeric_features = ['Model Year', 'City MPG (Fuel Type 1)', 'Highway MPG (Fuel Type 1)', 'Combined MPG (Fuel Type 1)', 'Engine Cylinders', 'Engine Displacement']\n",
    "scaled_features = scaler.transform(new_data[numeric_features])\n",
    "scaled_features_df = pd.DataFrame(scaled_features, columns=numeric_features)\n",
    "\n",
    "# Combine all features into one DataFrame\n",
    "final_features_df = pd.concat([encoded_features_df, scaled_features_df], axis=1)"
   ]
  },
  {
   "cell_type": "code",
   "execution_count": null,
   "metadata": {},
   "outputs": [],
   "source": [
    "# Load the model if not already in memory\n",
    "from tensorflow.keras.models import load_model\n",
    "model = load_model('car_make_prediction_model.h5')\n",
    "\n",
    "# Make predictions\n",
    "predictions = model.predict(final_features_df)\n",
    "predicted_index = np.argmax(predictions, axis=1)\n",
    "\n",
    "# Assuming you have the labels for each class\n",
    "makes = encoder.classes_  # The classes should be the same ones used for output during training\n",
    "predicted_make = makes[predicted_index]\n",
    "print(\"Predicted Make:\", predicted_make)"
   ]
  }
 ],
 "metadata": {
  "kernelspec": {
   "display_name": "Python 3",
   "language": "python",
   "name": "python3"
  },
  "language_info": {
   "codemirror_mode": {
    "name": "ipython",
    "version": 3
   },
   "file_extension": ".py",
   "mimetype": "text/x-python",
   "name": "python",
   "nbconvert_exporter": "python",
   "pygments_lexer": "ipython3",
   "version": "3.12.3"
  }
 },
 "nbformat": 4,
 "nbformat_minor": 2
}
