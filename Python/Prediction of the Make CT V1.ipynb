{
 "cells": [
  {
   "cell_type": "code",
   "execution_count": 9,
   "metadata": {},
   "outputs": [
    {
     "data": {
      "text/plain": [
       "(0.7427336900545131, 0.5504068716094033)"
      ]
     },
     "execution_count": 9,
     "metadata": {},
     "output_type": "execute_result"
    }
   ],
   "source": [
    "import pandas as pd\n",
    "from sklearn.model_selection import train_test_split\n",
    "from sklearn.preprocessing import LabelEncoder\n",
    "from sklearn.tree import DecisionTreeClassifier\n",
    "\n",
    "# Load the dataset\n",
    "file_path = 'Vehicle MPG - 1984 to 2023.csv'\n",
    "data = pd.read_csv(file_path)\n",
    "\n",
    "# Handle missing values: dropping rows where specific required columns are missing\n",
    "required_columns = ['Engine Displacement', 'Drive', 'Transmission', 'Vehicle Class', \n",
    "                    'Fuel Type 1', 'Model Year']\n",
    "data_clean = data.dropna(subset=required_columns)\n",
    "\n",
    "# Encode categorical variables\n",
    "categorical_features = ['Fuel Type 1', 'Drive', 'Transmission', 'Vehicle Class']\n",
    "data_clean = pd.get_dummies(data_clean, columns=categorical_features, drop_first=True)\n",
    "\n",
    "# Label encoding for 'Make'\n",
    "le = LabelEncoder()\n",
    "data_clean['Make'] = le.fit_transform(data_clean['Make'])\n",
    "\n",
    "# Selecting a subset of features for modeling\n",
    "features = data_clean[['Engine Displacement', 'Model Year']]\n",
    "features = pd.concat([features, data_clean.filter(like='Fuel Type 1_'), \n",
    "                      data_clean.filter(like='Drive_'), data_clean.filter(like='Transmission_'), \n",
    "                      data_clean.filter(like='Vehicle Class_')], axis=1)\n",
    "target = data_clean['Make']\n",
    "\n",
    "# Splitting data into train and test sets\n",
    "X_train, X_test, y_train, y_test = train_test_split(features, target, test_size=0.1, random_state=42)\n",
    "\n",
    "# Initialize and fit the Decision Tree model\n",
    "model = DecisionTreeClassifier(random_state=42)\n",
    "model.fit(X_train, y_train)\n",
    "\n",
    "# Checking the initial performance\n",
    "train_score = model.score(X_train, y_train)\n",
    "test_score = model.score(X_test, y_test)\n",
    "\n",
    "train_score, test_score\n"
   ]
  },
  {
   "cell_type": "code",
   "execution_count": 8,
   "metadata": {},
   "outputs": [
    {
     "data": {
      "text/plain": [
       "(0.3745680049094022, 0.35644310474755087)"
      ]
     },
     "execution_count": 8,
     "metadata": {},
     "output_type": "execute_result"
    }
   ],
   "source": [
    "# Pruning the Decision Tree model to avoid overfitting\n",
    "# We'll limit the maximum depth of the tree and set a minimum number of samples required to be at a leaf node\n",
    "\n",
    "pruned_model = DecisionTreeClassifier(max_depth=10, min_samples_leaf=50, random_state=42)\n",
    "pruned_model.fit(X_train, y_train)\n",
    "\n",
    "# Evaluating the pruned model\n",
    "pruned_train_score = pruned_model.score(X_train, y_train)\n",
    "pruned_test_score = pruned_model.score(X_test, y_test)\n",
    "\n",
    "pruned_train_score, pruned_test_score"
   ]
  }
 ],
 "metadata": {
  "kernelspec": {
   "display_name": "Python 3",
   "language": "python",
   "name": "python3"
  },
  "language_info": {
   "codemirror_mode": {
    "name": "ipython",
    "version": 3
   },
   "file_extension": ".py",
   "mimetype": "text/x-python",
   "name": "python",
   "nbconvert_exporter": "python",
   "pygments_lexer": "ipython3",
   "version": "3.12.3"
  }
 },
 "nbformat": 4,
 "nbformat_minor": 2
}
